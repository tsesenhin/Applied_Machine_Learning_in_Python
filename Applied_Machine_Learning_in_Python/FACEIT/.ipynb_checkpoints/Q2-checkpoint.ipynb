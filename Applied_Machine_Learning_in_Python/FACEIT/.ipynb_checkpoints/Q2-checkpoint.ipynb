{
 "cells": [
  {
   "cell_type": "markdown",
   "metadata": {},
   "source": [
    "# Question2\n",
    "\n",
    "To investigate the proportional difference between new client and web clients, Two Proportion Z Test would be \n",
    "conducted with the following assumptions assumed for the client__1_ dataset \n",
    "\n",
    "1. The data is drawn from a random sampling method\n",
    "\n",
    "2. The sample data are independent of one to other\n",
    "\n",
    "3. Each web_clients group and new_clients group includes at least 10 cases where user have joined at least 1 hub,\n",
    "and at least 10 further cases where user didn't join at least 1 hub\n",
    "\n",
    "4. Each population is at least 20 times as big of the sample data\n",
    "\n",
    "\n",
    "\n",
    "\n",
    "\n",
    "\n"
   ]
  },
  {
   "cell_type": "code",
   "execution_count": 153,
   "metadata": {},
   "outputs": [],
   "source": [
    "# Step1: Data Exploration"
   ]
  },
  {
   "cell_type": "code",
   "execution_count": 154,
   "metadata": {},
   "outputs": [],
   "source": [
    "import pandas as pd\n",
    "import numpy as np\n",
    "from scipy.stats import norm"
   ]
  },
  {
   "cell_type": "code",
   "execution_count": 155,
   "metadata": {},
   "outputs": [],
   "source": [
    "df = pd.read_excel('client__1_.xlsx')"
   ]
  },
  {
   "cell_type": "code",
   "execution_count": 156,
   "metadata": {},
   "outputs": [
    {
     "data": {
      "text/html": [
       "<div>\n",
       "<style scoped>\n",
       "    .dataframe tbody tr th:only-of-type {\n",
       "        vertical-align: middle;\n",
       "    }\n",
       "\n",
       "    .dataframe tbody tr th {\n",
       "        vertical-align: top;\n",
       "    }\n",
       "\n",
       "    .dataframe thead th {\n",
       "        text-align: right;\n",
       "    }\n",
       "</style>\n",
       "<table border=\"1\" class=\"dataframe\">\n",
       "  <thead>\n",
       "    <tr style=\"text-align: right;\">\n",
       "      <th></th>\n",
       "      <th>user_id</th>\n",
       "      <th>first_day</th>\n",
       "      <th>latest_day</th>\n",
       "      <th>lifespan</th>\n",
       "      <th>client</th>\n",
       "      <th>membership_type</th>\n",
       "      <th>joined_at_least_1_hub</th>\n",
       "    </tr>\n",
       "  </thead>\n",
       "  <tbody>\n",
       "    <tr>\n",
       "      <th>0</th>\n",
       "      <td>594132bd-7b3e-4ec4-b752-06ee1711d297</td>\n",
       "      <td>2017-10-11</td>\n",
       "      <td>2017-10-11</td>\n",
       "      <td>0</td>\n",
       "      <td>new_client</td>\n",
       "      <td>free</td>\n",
       "      <td>NaN</td>\n",
       "    </tr>\n",
       "    <tr>\n",
       "      <th>1</th>\n",
       "      <td>533f08c8-e1ee-4925-96d9-9aeeba55b5ba</td>\n",
       "      <td>2017-10-11</td>\n",
       "      <td>2017-10-11</td>\n",
       "      <td>0</td>\n",
       "      <td>new_client</td>\n",
       "      <td>free</td>\n",
       "      <td>NaN</td>\n",
       "    </tr>\n",
       "    <tr>\n",
       "      <th>2</th>\n",
       "      <td>0840ad75-5337-4193-8cf8-0348b126e697</td>\n",
       "      <td>2017-10-11</td>\n",
       "      <td>2017-10-11</td>\n",
       "      <td>0</td>\n",
       "      <td>web_client</td>\n",
       "      <td>free</td>\n",
       "      <td>NaN</td>\n",
       "    </tr>\n",
       "    <tr>\n",
       "      <th>3</th>\n",
       "      <td>6e51c17f-4a81-4bb9-9f35-f0e2839da86e</td>\n",
       "      <td>2017-10-11</td>\n",
       "      <td>2017-10-11</td>\n",
       "      <td>0</td>\n",
       "      <td>new_client</td>\n",
       "      <td>free</td>\n",
       "      <td>1.0</td>\n",
       "    </tr>\n",
       "    <tr>\n",
       "      <th>4</th>\n",
       "      <td>f0dde747-b394-4a75-a74f-5e4adec18a28</td>\n",
       "      <td>2017-10-11</td>\n",
       "      <td>2017-10-11</td>\n",
       "      <td>0</td>\n",
       "      <td>new_client</td>\n",
       "      <td>free</td>\n",
       "      <td>NaN</td>\n",
       "    </tr>\n",
       "    <tr>\n",
       "      <th>...</th>\n",
       "      <td>...</td>\n",
       "      <td>...</td>\n",
       "      <td>...</td>\n",
       "      <td>...</td>\n",
       "      <td>...</td>\n",
       "      <td>...</td>\n",
       "      <td>...</td>\n",
       "    </tr>\n",
       "    <tr>\n",
       "      <th>95</th>\n",
       "      <td>e12c186d-77e3-44a8-8308-5b3d9a69bec0</td>\n",
       "      <td>2017-10-11</td>\n",
       "      <td>2017-10-27</td>\n",
       "      <td>16</td>\n",
       "      <td>web_client</td>\n",
       "      <td>free</td>\n",
       "      <td>NaN</td>\n",
       "    </tr>\n",
       "    <tr>\n",
       "      <th>96</th>\n",
       "      <td>eba0875f-28b1-4b59-8834-0292e1d9b96c</td>\n",
       "      <td>2017-10-11</td>\n",
       "      <td>2017-10-27</td>\n",
       "      <td>16</td>\n",
       "      <td>new_client</td>\n",
       "      <td>free</td>\n",
       "      <td>NaN</td>\n",
       "    </tr>\n",
       "    <tr>\n",
       "      <th>97</th>\n",
       "      <td>e6886bed-6096-4a39-afb9-e4572d2ef97b</td>\n",
       "      <td>2017-10-11</td>\n",
       "      <td>2017-10-28</td>\n",
       "      <td>17</td>\n",
       "      <td>new_client</td>\n",
       "      <td>free</td>\n",
       "      <td>1.0</td>\n",
       "    </tr>\n",
       "    <tr>\n",
       "      <th>98</th>\n",
       "      <td>5baddb39-9e28-4220-aea7-b103097cdd57</td>\n",
       "      <td>2017-10-11</td>\n",
       "      <td>2017-10-28</td>\n",
       "      <td>17</td>\n",
       "      <td>web_client</td>\n",
       "      <td>free</td>\n",
       "      <td>1.0</td>\n",
       "    </tr>\n",
       "    <tr>\n",
       "      <th>99</th>\n",
       "      <td>c6eb77e3-1015-40b1-9b22-f8f8441cbcdf</td>\n",
       "      <td>2017-10-11</td>\n",
       "      <td>2017-10-28</td>\n",
       "      <td>17</td>\n",
       "      <td>new_client</td>\n",
       "      <td>free</td>\n",
       "      <td>NaN</td>\n",
       "    </tr>\n",
       "  </tbody>\n",
       "</table>\n",
       "<p>100 rows × 7 columns</p>\n",
       "</div>"
      ],
      "text/plain": [
       "                                 user_id  first_day latest_day  lifespan  \\\n",
       "0   594132bd-7b3e-4ec4-b752-06ee1711d297 2017-10-11 2017-10-11         0   \n",
       "1   533f08c8-e1ee-4925-96d9-9aeeba55b5ba 2017-10-11 2017-10-11         0   \n",
       "2   0840ad75-5337-4193-8cf8-0348b126e697 2017-10-11 2017-10-11         0   \n",
       "3   6e51c17f-4a81-4bb9-9f35-f0e2839da86e 2017-10-11 2017-10-11         0   \n",
       "4   f0dde747-b394-4a75-a74f-5e4adec18a28 2017-10-11 2017-10-11         0   \n",
       "..                                   ...        ...        ...       ...   \n",
       "95  e12c186d-77e3-44a8-8308-5b3d9a69bec0 2017-10-11 2017-10-27        16   \n",
       "96  eba0875f-28b1-4b59-8834-0292e1d9b96c 2017-10-11 2017-10-27        16   \n",
       "97  e6886bed-6096-4a39-afb9-e4572d2ef97b 2017-10-11 2017-10-28        17   \n",
       "98  5baddb39-9e28-4220-aea7-b103097cdd57 2017-10-11 2017-10-28        17   \n",
       "99  c6eb77e3-1015-40b1-9b22-f8f8441cbcdf 2017-10-11 2017-10-28        17   \n",
       "\n",
       "        client membership_type  joined_at_least_1_hub  \n",
       "0   new_client            free                    NaN  \n",
       "1   new_client            free                    NaN  \n",
       "2   web_client            free                    NaN  \n",
       "3   new_client            free                    1.0  \n",
       "4   new_client            free                    NaN  \n",
       "..         ...             ...                    ...  \n",
       "95  web_client            free                    NaN  \n",
       "96  new_client            free                    NaN  \n",
       "97  new_client            free                    1.0  \n",
       "98  web_client            free                    1.0  \n",
       "99  new_client            free                    NaN  \n",
       "\n",
       "[100 rows x 7 columns]"
      ]
     },
     "execution_count": 156,
     "metadata": {},
     "output_type": "execute_result"
    }
   ],
   "source": [
    "df.head(100)"
   ]
  },
  {
   "cell_type": "code",
   "execution_count": 157,
   "metadata": {},
   "outputs": [
    {
     "data": {
      "text/plain": [
       "1557"
      ]
     },
     "execution_count": 157,
     "metadata": {},
     "output_type": "execute_result"
    }
   ],
   "source": [
    "# Step 2: Count of Users who is using new client and join at least 1 hub\n",
    "df_new_and_1 = df[(df.client == 'new_client') & (df.joined_at_least_1_hub == 1.0)]\n",
    "df_new_and_joined_1_count = df_new_and_1.iloc[:,0].count()\n",
    "df_new_and_joined_1_count"
   ]
  },
  {
   "cell_type": "code",
   "execution_count": 158,
   "metadata": {},
   "outputs": [
    {
     "data": {
      "text/plain": [
       "1809"
      ]
     },
     "execution_count": 158,
     "metadata": {},
     "output_type": "execute_result"
    }
   ],
   "source": [
    "# Step 3: Count of Users who is using new client\n",
    "df_new = df[(df.client == 'new_client')]\n",
    "df_new_count = df_new.iloc[:,0].count()\n",
    "df_new_count            \n"
   ]
  },
  {
   "cell_type": "code",
   "execution_count": 159,
   "metadata": {},
   "outputs": [
    {
     "data": {
      "text/plain": [
       "1253"
      ]
     },
     "execution_count": 159,
     "metadata": {},
     "output_type": "execute_result"
    }
   ],
   "source": [
    "# Step 4: Count of Users who is using old client and join at least 1 hub\n",
    "df_web_and_1 = df[(df.client == 'web_client') & (df.joined_at_least_1_hub == 1.0)]\n",
    "df_web_and_joined_1_count = df_web_and_1.iloc[:,0].count()\n",
    "df_web_and_joined_1_count"
   ]
  },
  {
   "cell_type": "code",
   "execution_count": 160,
   "metadata": {},
   "outputs": [
    {
     "data": {
      "text/plain": [
       "1496"
      ]
     },
     "execution_count": 160,
     "metadata": {},
     "output_type": "execute_result"
    }
   ],
   "source": [
    "# Step 5: Count of Users who is using web client\n",
    "df_web = df[(df.client == 'web_client')]\n",
    "df_web_count = df_web.iloc[:,0].count()\n",
    "df_web_count  \n"
   ]
  },
  {
   "cell_type": "code",
   "execution_count": 1,
   "metadata": {},
   "outputs": [],
   "source": [
    "# Step 6: Create a Two Proportion Z Test Function\n",
    "\n",
    "\n"
   ]
  },
  {
   "cell_type": "code",
   "execution_count": 162,
   "metadata": {},
   "outputs": [],
   "source": [
    "def two_proportion_z_test(countA_new_and_1,countB_new_and1,countA,countB):\n",
    "    pA = countA_new_and_1/countA\n",
    "    pB = countB_new_and1/countB\n",
    "    pA_and_pB = (countA_new_and_1 + countB_new_and1)/(countA + countB)\n",
    "    top = np.abs(pA - pB)\n",
    "    bottom = pA_and_pB*(1-pA_and_pB)*(1/countA + 1/countB)\n",
    " \n",
    "    zscore = top/np.sqrt(bottom)\n",
    "    two_tail =  (1 - norm(loc = 0, scale = 1).cdf(zscore)) * 2\n",
    "    pvalue = two_tail\n",
    "    return ('z-score:', zscore, 'p-vale:',pvalue)\n",
    "    \n",
    "    \n",
    "    \n"
   ]
  },
  {
   "cell_type": "code",
   "execution_count": null,
   "metadata": {},
   "outputs": [],
   "source": [
    "# Two Proportion Z Test z-score and p-value calculation"
   ]
  },
  {
   "cell_type": "code",
   "execution_count": 163,
   "metadata": {},
   "outputs": [
    {
     "data": {
      "text/plain": [
       "('z-score:', 1.8547463968475537, 'p-vale:', 0.06363244985757244)"
      ]
     },
     "execution_count": 163,
     "metadata": {},
     "output_type": "execute_result"
    }
   ],
   "source": [
    "two_proportion_z_test(df_new_and_joined_1_count,df_web_and_joined_1_count,df_new_count,df_web_count)"
   ]
  },
  {
   "cell_type": "markdown",
   "metadata": {},
   "source": [
    "# Conclusion\n",
    "\n",
    "Analysis from Two Proportion Z Test has shown a z-score of 1.8 and a p-value of 0.06.\n",
    "The fact that the p-value >0.05 would suggest no significant difference \n",
    "between The proportion of users who used the new client and joined at least one hub \n",
    "and the proportion of users who are using the old web client and joined at least one hub.\n",
    "\n",
    "As such, we can reject the H1 (alternative hypothesis), and inform the product team that the proportion is similar \n",
    "between new clients and web clients group.\n",
    "\n"
   ]
  }
 ],
 "metadata": {
  "kernelspec": {
   "display_name": "Python 3.6.10 64-bit ('py36': conda)",
   "language": "python",
   "name": "python361064bitpy36condae83ba58d136747d6932097f87c236ac2"
  },
  "language_info": {
   "codemirror_mode": {
    "name": "ipython",
    "version": 3
   },
   "file_extension": ".py",
   "mimetype": "text/x-python",
   "name": "python",
   "nbconvert_exporter": "python",
   "pygments_lexer": "ipython3",
   "version": "3.6.10"
  }
 },
 "nbformat": 4,
 "nbformat_minor": 2
}
