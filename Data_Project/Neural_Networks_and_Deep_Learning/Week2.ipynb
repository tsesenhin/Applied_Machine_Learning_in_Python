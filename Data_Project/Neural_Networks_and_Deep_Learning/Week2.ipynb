{
 "cells": [
  {
   "cell_type": "markdown",
   "metadata": {},
   "source": [
    "# Vectorisation Demo\n"
   ]
  },
  {
   "cell_type": "code",
   "execution_count": 60,
   "metadata": {},
   "outputs": [
    {
     "name": "stdout",
     "output_type": "stream",
     "text": [
      "[1 2 3 4]\n"
     ]
    }
   ],
   "source": [
    "import numpy as np\n",
    "\n",
    "a = np.array([1,2,3,4])\n",
    "print(a)"
   ]
  },
  {
   "cell_type": "code",
   "execution_count": 61,
   "metadata": {},
   "outputs": [
    {
     "name": "stdout",
     "output_type": "stream",
     "text": [
      "(3,)\n",
      "(3,)\n",
      "Vectorised version: 1.1920928955078125 ms\n",
      "0.535877198375921\n"
     ]
    }
   ],
   "source": [
    "import time\n",
    "\n",
    "b = np.random.rand(3)\n",
    "print(b.shape)\n",
    "c = np.random.rand(3)\n",
    "print(c.shape)\n",
    "\n",
    "tic = time.time()\n",
    "d = np.dot(b,c) # two 1D array multiplication\n",
    "toc = time.time()# second since 1970-01-01\n",
    "print('Vectorised version: ' + str(1000*(toc-tic)) + ' ms')\n",
    "print(d)"
   ]
  },
  {
   "cell_type": "code",
   "execution_count": 81,
   "metadata": {},
   "outputs": [
    {
     "name": "stdout",
     "output_type": "stream",
     "text": [
      "b 0.05540657299331653 c 0.19886820677963224 d 0.011018605814985658\n",
      "b 0.8738834542366543 c 0.1391085500536654 d 0.1325832660497353\n",
      "b 0.7337243745394482 c 0.549653175389368 d 0.535877198375921\n",
      "hu 0.535877198375921\n",
      "For loop:1.8701553344726562ms\n"
     ]
    }
   ],
   "source": [
    "d = 0\n",
    "tic = time.time()\n",
    "for i in range(3):\n",
    "    d += b[i]*c[i] # you multiply b and c of the first row and get d\n",
    "    #you then multiply b and c of the second row and add that number to the previous d and so on\n",
    "    #note, b[i] means the row number that matches the i in for loop\n",
    "    print('b', b[i], 'c', c[i],'d', d)\n",
    "toc = time.time()\n",
    "\n",
    "\n",
    "print('hu', d)\n",
    "print(\"For loop:\" + str(1000*(toc-tic)) + 'ms')"
   ]
  },
  {
   "cell_type": "code",
   "execution_count": 72,
   "metadata": {},
   "outputs": [],
   "source": [
    "# As above, for loop is slower than vectorisation!!! "
   ]
  },
  {
   "cell_type": "code",
   "execution_count": 71,
   "metadata": {},
   "outputs": [
    {
     "name": "stdout",
     "output_type": "stream",
     "text": [
      "b [0.05540657 0.87388345 0.73372437] c [0.19886821 0.13910855 0.54965318] d [0.01101861 0.12156466 0.40329393]\n",
      "b [0.05540657 0.87388345 0.73372437] c [0.19886821 0.13910855 0.54965318] d [0.02203721 0.24312932 0.80658786]\n",
      "b [0.05540657 0.87388345 0.73372437] c [0.19886821 0.13910855 0.54965318] d [0.03305582 0.36469398 1.2098818 ]\n",
      "hu [0.03305582 0.36469398 1.2098818 ]\n",
      "For loop:2.173900604248047ms\n"
     ]
    }
   ],
   "source": [
    "d = 0\n",
    "tic = time.time()\n",
    "for i in range(3):\n",
    "    d += b*c # you multiply b and c of the first row and get d,\n",
    "    #you then multiply b and c of the second row and add that number to the previous d and so on\n",
    "    print('b', b, 'c', c,'d', d)\n",
    "toc = time.time()\n",
    "\n",
    "\n",
    "print('hu', d)\n",
    "print(\"For loop:\" + str(1000*(toc-tic)) + 'ms')"
   ]
  },
  {
   "cell_type": "markdown",
   "metadata": {},
   "source": [
    "# Broadcasting Example"
   ]
  },
  {
   "cell_type": "code",
   "execution_count": 5,
   "metadata": {},
   "outputs": [
    {
     "name": "stdout",
     "output_type": "stream",
     "text": [
      "[[ 56.    0.    4.4  68. ]\n",
      " [  1.2 104.   52.    8. ]\n",
      " [  1.8 135.   99.    0.9]]\n"
     ]
    },
    {
     "data": {
      "text/plain": [
       "(3, 4)"
      ]
     },
     "execution_count": 5,
     "metadata": {},
     "output_type": "execute_result"
    }
   ],
   "source": [
    "import numpy as np\n",
    "\n",
    "A = np.array([[56.0,0.0,4.4,68.0],\n",
    "            [1.2,104.0,52.0,8.0],\n",
    "              [1.8,135.0,99.0,0.9]])\n",
    "\n",
    "print(A)\n",
    "A.shape"
   ]
  },
  {
   "cell_type": "code",
   "execution_count": 7,
   "metadata": {},
   "outputs": [
    {
     "name": "stdout",
     "output_type": "stream",
     "text": [
      "[ 59.  239.  155.4  76.9]\n"
     ]
    },
    {
     "data": {
      "text/plain": [
       "(4,)"
      ]
     },
     "execution_count": 7,
     "metadata": {},
     "output_type": "execute_result"
    }
   ],
   "source": [
    "cal = A.sum(axis = 0) #axis = 0 equal sum of the each column of variable A\n",
    "print(cal)\n",
    "cal.shape"
   ]
  },
  {
   "cell_type": "code",
   "execution_count": 9,
   "metadata": {},
   "outputs": [
    {
     "name": "stdout",
     "output_type": "stream",
     "text": [
      "[[94.91525424  0.          2.83140283 88.42652796]\n",
      " [ 2.03389831 43.51464435 33.46203346 10.40312094]\n",
      " [ 3.05084746 56.48535565 63.70656371  1.17035111]]\n"
     ]
    }
   ],
   "source": [
    "# the below allows each 'A' element to be divided by the corrsponding column sum \n",
    "# despite cal and A is in different np.array size.\n",
    "# This is a method of broadcasting in numpy\n",
    "\n",
    "percentage = 100*(A/cal)\n",
    "\n",
    "print(percentage)\n"
   ]
  },
  {
   "cell_type": "code",
   "execution_count": null,
   "metadata": {},
   "outputs": [],
   "source": [
    "\n"
   ]
  }
 ],
 "metadata": {
  "kernelspec": {
   "display_name": "Python 3",
   "language": "python",
   "name": "python3"
  },
  "language_info": {
   "codemirror_mode": {
    "name": "ipython",
    "version": 3
   },
   "file_extension": ".py",
   "mimetype": "text/x-python",
   "name": "python",
   "nbconvert_exporter": "python",
   "pygments_lexer": "ipython3",
   "version": "3.6.10"
  }
 },
 "nbformat": 4,
 "nbformat_minor": 2
}
